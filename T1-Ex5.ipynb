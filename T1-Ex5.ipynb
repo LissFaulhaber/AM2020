{
 "cells": [
  {
   "cell_type": "code",
   "execution_count": 1,
   "metadata": {},
   "outputs": [],
   "source": [
    "import os\n",
    "import numpy as np\n",
    "import scipy.io as spio\n",
    "import scipy.optimize as opt\n",
    "import matplotlib.pyplot as plt\n",
    "from linearRegCostFunction import RegCost, gdReg"
   ]
  },
  {
   "cell_type": "code",
   "execution_count": 2,
   "metadata": {},
   "outputs": [],
   "source": [
    "#ler arquivo de dados\n",
    "data = spio.loadmat('data/ex5data1.mat')\n",
    "#armazena os dados de cada array identificado em [''] na sua respectiva variável a ser usada\n",
    "X = np.c_[np.ones_like(data['X']), data['X']]\n",
    "Xtest = np.c_[np.ones_like(data['Xtest']), data['Xtest']]\n",
    "Xval = np.c_[np.ones_like(data['Xval']), data['Xval']]\n",
    "y = data ['y']\n",
    "ytest = data['ytest']\n",
    "yval = data ['yval']"
   ]
  },
  {
   "cell_type": "code",
   "execution_count": 3,
   "metadata": {},
   "outputs": [],
   "source": [
    "def plot (X, y):\n",
    "    \n",
    "    plt.axis([-50, 40, 0, 50])\n",
    "    plt.scatter(X[:,1:].T, y, color='red', marker='x')\n",
    "    plt.xlabel('Change in water level (x)')\n",
    "    plt.ylabel('Water flowing out of the dam (y)')\n",
    "    \n",
    "    #define o nome do arquivo que guardará a imagem do gráfico, e cria o caminho, caso não exista\n",
    "    filename = 'target/plot5.1.png'\n",
    "    if not os.path.exists(os.path.dirname(filename)):\n",
    "      os.makedirs(os.path.dirname(filename))\n",
    "\n",
    "    #salva imagem do gráfico e o exibe\n",
    "    plt.savefig(filename)\n",
    "    plt.show()"
   ]
  },
  {
   "cell_type": "code",
   "execution_count": 4,
   "metadata": {},
   "outputs": [
    {
     "data": {
      "image/png": "[encoded data removed]",
      "text/plain": [
       "<Figure size 432x288 with 1 Axes>"
      ]
     },
     "metadata": {
      "needs_background": "light"
     },
     "output_type": "display_data"
    }
   ],
   "source": [
    "plot(X, y)"
   ]
  },
  {
   "cell_type": "code",
   "execution_count": 5,
   "metadata": {},
   "outputs": [
    {
     "name": "stdout",
     "output_type": "stream",
     "text": [
      "303.9931922202643\n"
     ]
    }
   ],
   "source": [
    "theta = np.ones((X.shape[1],1))\n",
    "lamb=1\n",
    "#custo encontrado\n",
    "J=RegCost(lamb, X, y, theta)\n",
    "print (J)"
   ]
  },
  {
   "cell_type": "code",
   "execution_count": 6,
   "metadata": {},
   "outputs": [
    {
     "name": "stdout",
     "output_type": "stream",
     "text": [
      "[[-15.30301567]\n",
      " [598.25074417]]\n"
     ]
    }
   ],
   "source": [
    "#valores do gradiente\n",
    "gd = gdReg(lamb, X, y, theta)\n",
    "print (gd)"
   ]
  },
  {
   "cell_type": "code",
   "execution_count": 7,
   "metadata": {},
   "outputs": [],
   "source": [
    "def plotlinear (X, y, theta):\n",
    "    \n",
    "    t = np.arange(-50, 40, 1)\n",
    "    plt.axis([-50, 40, -5, 50])\n",
    "    plt.scatter(X[:,1:].T, y, color='red', marker='x')\n",
    "    plt.plot(t, theta[0] + (theta[1]*t), color = 'blue')\n",
    "    plt.xlabel('Change in water level (x)')\n",
    "    plt.ylabel('Water flowing out of the dam (y)')\n",
    "    \n",
    "    #define o nome do arquivo que guardará a imagem do gráfico, e cria o caminho, caso não exista\n",
    "    filename = 'target/plot5.4.png'\n",
    "    if not os.path.exists(os.path.dirname(filename)):\n",
    "      os.makedirs(os.path.dirname(filename))\n",
    "\n",
    "    #salva imagem do gráfico e o exibe\n",
    "    plt.savefig(filename)\n",
    "    plt.show()"
   ]
  },
  {
   "cell_type": "code",
   "execution_count": 8,
   "metadata": {},
   "outputs": [],
   "source": [
    "def minimize (theta, X, y, lamb):\n",
    "    epochs = 5000\n",
    "    alpha = 0.01\n",
    "    cost = np.zeros(epochs)\n",
    "    \n",
    "    for i in range(epochs):\n",
    "        gradient = gdReg(lamb, X, y, theta)\n",
    "        theta = theta - (alpha*gradient)\n",
    "        cost[i] = RegCost(lamb, X, y, theta=theta)\n",
    "    \n",
    "    return cost[-1], theta    "
   ]
  },
  {
   "cell_type": "code",
   "execution_count": 9,
   "metadata": {},
   "outputs": [
    {
     "name": "stderr",
     "output_type": "stream",
     "text": [
      "C:\\Users\\Liss\\Desktop\\AMT1\\linearRegCostFunction.py:9: RuntimeWarning: overflow encountered in square\n",
      "  cost=(np.sum((X.dot(theta) - y)**2))\n",
      "C:\\Users\\Liss\\Anaconda3\\lib\\site-packages\\numpy\\core\\fromnumeric.py:86: RuntimeWarning: overflow encountered in reduce\n",
      "  return ufunc.reduce(obj, axis, dtype, out, **passkwargs)\n",
      "C:\\Users\\Liss\\Desktop\\AMT1\\linearRegCostFunction.py:12: RuntimeWarning: overflow encountered in square\n",
      "  reg = (np.sum(np.square(theta[1:]))*lamb)\n",
      "C:\\Users\\Liss\\Desktop\\AMT1\\linearRegCostFunction.py:12: RuntimeWarning: invalid value encountered in double_scalars\n",
      "  reg = (np.sum(np.square(theta[1:]))*lamb)\n",
      "C:\\Users\\Liss\\Desktop\\AMT1\\linearRegCostFunction.py:27: RuntimeWarning: invalid value encountered in multiply\n",
      "  reg = (lamb*np.r_[[[0]], theta[1:]])\n"
     ]
    }
   ],
   "source": [
    "theta0 = np.zeros((X.shape[1],1))\n",
    "custo, theta1 = minimize(theta0, X, y, lamb=0)"
   ]
  },
  {
   "cell_type": "code",
   "execution_count": null,
   "metadata": {},
   "outputs": [],
   "source": []
  },
  {
   "cell_type": "code",
   "execution_count": null,
   "metadata": {},
   "outputs": [],
   "source": []
  }
 ],
 "metadata": {
  "kernelspec": {
   "display_name": "Python 3",
   "language": "python",
   "name": "python3"
  },
  "language_info": {
   "codemirror_mode": {
    "name": "ipython",
    "version": 3
   },
   "file_extension": ".py",
   "mimetype": "text/x-python",
   "name": "python",
   "nbconvert_exporter": "python",
   "pygments_lexer": "ipython3",
   "version": "3.7.4"
  }
 },
 "nbformat": 4,
 "nbformat_minor": 2
}
