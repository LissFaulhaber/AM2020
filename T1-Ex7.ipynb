{
 "cells": [
  {
   "cell_type": "code",
   "execution_count": 1,
   "metadata": {},
   "outputs": [],
   "source": [
    "import os\n",
    "import numpy as np\n",
    "import scipy.io as spio\n",
    "import matplotlib.pyplot as plt\n",
    "from poly_features import poly_features\n",
    "from normalizacao import normalizar_caracteristica\n",
    "from linearRegCostFunction import RegCost, gdReg, minimize\n",
    "from learningCurve import learningCurve"
   ]
  },
  {
   "cell_type": "code",
   "execution_count": 2,
   "metadata": {},
   "outputs": [],
   "source": [
    "#ler arquivo de dados\n",
    "data = spio.loadmat('data/ex5data1.mat')\n",
    "#armazena os dados de cada array identificado em [''] na sua respectiva variável a ser usada\n",
    "X = data['X']\n",
    "y = data ['y']\n",
    "Xval = data['Xval']\n",
    "yval = data['yval']"
   ]
  },
  {
   "cell_type": "code",
   "execution_count": 3,
   "metadata": {},
   "outputs": [
    {
     "data": {
      "text/plain": [
       "(12, 8)"
      ]
     },
     "execution_count": 3,
     "metadata": {},
     "output_type": "execute_result"
    }
   ],
   "source": [
    "X_poly = poly_features(X, 8)\n",
    "X_poly.shape"
   ]
  },
  {
   "cell_type": "code",
   "execution_count": 4,
   "metadata": {},
   "outputs": [],
   "source": [
    "X_norm, y_norm = normalizar_caracteristica(X_poly, y)\n",
    "theta0 = np.zeros((X_norm.shape[1],1))\n",
    "custo, theta = minimize(theta0, X_norm, y_norm, 0)"
   ]
  },
  {
   "cell_type": "code",
   "execution_count": 5,
   "metadata": {},
   "outputs": [],
   "source": [
    "#def plot(X, y, xx1, h, theta):\n",
    "#    t = np.arange(-80, 80, 14)\n",
    "#    plt.axis ([-80, 80, -60, 40])\n",
    "#    plt.scatter(X.T, y, color='red', marker='x')\n",
    "#    plt.plot(t, h, color = 'blue')\n",
    "#    plt.xlabel('Change in water level (x)')\n",
    "#    plt.ylabel('Water flowing out of the dam (y)')\n",
    "#    plt.title('Learning Curve for Linear Regression')\n",
    "    #define o nome do arquivo que guardará a imagem do gráfico, e cria o caminho, caso não exista\n",
    "#    filename = 'target/plot7.1.png'\n",
    "#    if not os.path.exists(os.path.dirname(filename)):\n",
    "#      os.makedirs(os.path.dirname(filename))\n",
    "\n",
    "    #salva imagem do gráfico e o exibe\n",
    "#    plt.savefig(filename)\n",
    "#    plt.show()"
   ]
  },
  {
   "cell_type": "code",
   "execution_count": 13,
   "metadata": {},
   "outputs": [],
   "source": [
    "def ploterro(erro_val, erro):\n",
    "    t = np.arange(1,13)\n",
    "    plt.axis ([0, 13, 0, 100])\n",
    "    plt.plot (t, erro_val,color = 'green', label = 'Cross Validation')\n",
    "    plt.plot (t, erro, color = \"blue\", label = 'Train')\n",
    "    plt.legend()\n",
    "    plt.xlabel('Change in water level (x)')\n",
    "    plt.ylabel('Water flowing out of the dam (y)')\n",
    "    plt.title('Learning Curve for Linear Regression')\n",
    "    #define o nome do arquivo que guardará a imagem do gráfico, e cria o caminho, caso não exista\n",
    "    filename = 'target/plot7.2.png'\n",
    "    if not os.path.exists(os.path.dirname(filename)):\n",
    "      os.makedirs(os.path.dirname(filename))\n",
    "\n",
    "    #salva imagem do gráfico e o exibe\n",
    "    plt.savefig(filename)\n",
    "    plt.show()"
   ]
  },
  {
   "cell_type": "code",
   "execution_count": 14,
   "metadata": {},
   "outputs": [
    {
     "data": {
      "image/png": "[encoded data removed]",
      "text/plain": [
       "<Figure size 432x288 with 1 Axes>"
      ]
     },
     "metadata": {
      "needs_background": "light"
     },
     "output_type": "display_data"
    }
   ],
   "source": [
    "Xval_poly = poly_features(Xval, 8)\n",
    "Xval_norm, yval_norm = normalizar_caracteristica(Xval_poly, yval)\n",
    "erro, erro_val = learningCurve(X_norm, y_norm, Xval_norm, yval_norm, 0)\n",
    "ploterro(erro_val, erro)"
   ]
  },
  {
   "cell_type": "code",
   "execution_count": null,
   "metadata": {},
   "outputs": [],
   "source": []
  },
  {
   "cell_type": "code",
   "execution_count": null,
   "metadata": {},
   "outputs": [],
   "source": []
  }
 ],
 "metadata": {
  "kernelspec": {
   "display_name": "Python 3",
   "language": "python",
   "name": "python3"
  },
  "language_info": {
   "codemirror_mode": {
    "name": "ipython",
    "version": 3
   },
   "file_extension": ".py",
   "mimetype": "text/x-python",
   "name": "python",
   "nbconvert_exporter": "python",
   "pygments_lexer": "ipython3",
   "version": "3.7.4"
  }
 },
 "nbformat": 4,
 "nbformat_minor": 2
}
