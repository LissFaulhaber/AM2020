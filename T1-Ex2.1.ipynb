{
 "cells": [
  {
   "cell_type": "code",
   "execution_count": 1,
   "metadata": {},
   "outputs": [],
   "source": [
    "import numpy as np\n",
    "from data2 import importarDados"
   ]
  },
  {
   "cell_type": "code",
   "execution_count": 2,
   "metadata": {},
   "outputs": [],
   "source": [
    "dtX,dty=importarDados(filepath='/data/ex1data2.txt')"
   ]
  },
  {
   "cell_type": "code",
   "execution_count": 6,
   "metadata": {},
   "outputs": [],
   "source": [
    "#Z-Score norm\n",
    "def normalizar_caracteristica(X, y):\n",
    "    #média dos valores X\n",
    "    mean_X = np.mean(X, axis=0)\n",
    "    #desvio padrão dos valores X\n",
    "    std_X = np.std(X, axis=0)\n",
    "    #cálculo de normalização de X\n",
    "    X_norm = (X - mean_X) / std_X\n",
    "\n",
    "    #média de y\n",
    "    mean_y = np.mean(y)\n",
    "    #desvio padrão de y\n",
    "    std_y = np.std(y)\n",
    "    y_norm = (y - mean_y) / std_y\n",
    "    \n",
    "    # Incluir o valor de 1 em x, pois theta0 = 1\n",
    "    X_norm = np.c_[np.ones((X_norm.shape[0], 1)), X_norm]\n",
    "\n",
    "    return X_norm , y_norm"
   ]
  },
  {
   "cell_type": "code",
   "execution_count": 11,
   "metadata": {},
   "outputs": [],
   "source": [
    "dataX, dataY=normalizar_caracteristica(dtX, dty)"
   ]
  },
  {
   "cell_type": "code",
   "execution_count": null,
   "metadata": {},
   "outputs": [],
   "source": []
  }
 ],
 "metadata": {
  "kernelspec": {
   "display_name": "Python 3",
   "language": "python",
   "name": "python3"
  },
  "language_info": {
   "codemirror_mode": {
    "name": "ipython",
    "version": 3
   },
   "file_extension": ".py",
   "mimetype": "text/x-python",
   "name": "python",
   "nbconvert_exporter": "python",
   "pygments_lexer": "ipython3",
   "version": "3.7.4"
  }
 },
 "nbformat": 4,
 "nbformat_minor": 2
}
