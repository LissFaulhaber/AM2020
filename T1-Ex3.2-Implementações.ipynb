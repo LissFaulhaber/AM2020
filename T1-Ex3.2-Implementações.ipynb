{
 "cells": [
  {
   "cell_type": "code",
   "execution_count": 1,
   "metadata": {},
   "outputs": [],
   "source": [
    "import numpy as np\n",
    "import pandas as pd\n",
    "import scipy.optimize as opt\n",
    "from sigmoide import sigmoide\n",
    "from custo_reglog import custo_reglog\n",
    "from gd_reglog import gd_reglog\n",
    "from predizer_aprovacao import predizer , acuracia"
   ]
  },
  {
   "cell_type": "code",
   "execution_count": 2,
   "metadata": {},
   "outputs": [],
   "source": [
    "#leitura de dados\n",
    "data = pd.read_csv('data/ex2data1.txt', header=None)\n",
    "#insere o valor 1 para x[0]\n",
    "data.insert(0, 'Ones', 1)\n",
    "# converte de dataframes para arrays\n",
    "cols = data.shape[1]\n",
    "X = data.iloc[:,0:cols-1]\n",
    "y = data.iloc[:,cols-1:cols]\n",
    "# converte de arrays para matrizes\n",
    "X = np.array(X.values)\n",
    "y = np.array(y.values)\n",
    "#determina valor inicial de theta\n",
    "theta=np.array([0,0,0])"
   ]
  },
  {
   "cell_type": "code",
   "execution_count": 3,
   "metadata": {},
   "outputs": [
    {
     "name": "stdout",
     "output_type": "stream",
     "text": [
      "0.5\n",
      "0.9999546021312976\n",
      "0.11920292202211755\n"
     ]
    }
   ],
   "source": [
    "#teste valores função sigmoide\n",
    "print(sigmoide(z=0)) #deverá retornar 0.5\n",
    "print(sigmoide(z=10)) #deverá retornar algo próximo de 1\n",
    "print(sigmoide(z=-2)) #deverá retornar algo próximo de 0"
   ]
  },
  {
   "cell_type": "code",
   "execution_count": 4,
   "metadata": {},
   "outputs": [
    {
     "name": "stdout",
     "output_type": "stream",
     "text": [
      "0.6931471805599453\n"
     ]
    }
   ],
   "source": [
    "#calcula o custo da função para valores de theta iguais a 0\n",
    "J=(custo_reglog(theta,X,y))\n",
    "print(J)"
   ]
  },
  {
   "cell_type": "code",
   "execution_count": 5,
   "metadata": {},
   "outputs": [
    {
     "data": {
      "text/plain": [
       "0.20349770158947425"
      ]
     },
     "execution_count": 5,
     "metadata": {},
     "output_type": "execute_result"
    }
   ],
   "source": [
    "#opt.fmin_tnc é uma função que busca otimizar (minimizar, neste caso), valores de funções\n",
    "#'func'=função a ser minimizada , 'fprime'=gradiente para minimizar função 'func'\n",
    "# x0 = valor inicial para cálculo\n",
    "result = opt.fmin_tnc(func=custo_reglog, x0=theta, fprime=gd_reglog, args=(X,y))\n",
    "custo_reglog(result[0],X,y)"
   ]
  },
  {
   "cell_type": "code",
   "execution_count": 6,
   "metadata": {},
   "outputs": [
    {
     "name": "stdout",
     "output_type": "stream",
     "text": [
      "[[0.77629063]]\n"
     ]
    }
   ],
   "source": [
    "#valores encontrados na aplicação do gradiente descendente\n",
    "theta=np.matrix(result[0])\n",
    "#valores a serem adotados por X nesta predição\n",
    "predX=np.array([1.0,45.0,85.0])\n",
    "#como se trata de Reg. Logística, o uso da função sigmoide garante que o valor encontrado estará entre 0 e 1 \n",
    "predição=sigmoide(predX * theta.T)\n",
    "print(predição)"
   ]
  },
  {
   "cell_type": "code",
   "execution_count": 8,
   "metadata": {},
   "outputs": [],
   "source": [
    "#retorna a predição(y), de acordo com os valores de theta, para cada conjunto X de dados\n",
    "predizer(theta, X)"
   ]
  },
  {
   "cell_type": "code",
   "execution_count": 10,
   "metadata": {},
   "outputs": [
    {
     "data": {
      "text/plain": [
       "89"
      ]
     },
     "execution_count": 10,
     "metadata": {},
     "output_type": "execute_result"
    }
   ],
   "source": [
    "#compara os resultados de função 'predizer' com os valores de y e retorna o total de acertos\n",
    "acuracia(X, y, result)"
   ]
  },
  {
   "cell_type": "code",
   "execution_count": null,
   "metadata": {},
   "outputs": [],
   "source": []
  }
 ],
 "metadata": {
  "kernelspec": {
   "display_name": "Python 3",
   "language": "python",
   "name": "python3"
  },
  "language_info": {
   "codemirror_mode": {
    "name": "ipython",
    "version": 3
   },
   "file_extension": ".py",
   "mimetype": "text/x-python",
   "name": "python",
   "nbconvert_exporter": "python",
   "pygments_lexer": "ipython3",
   "version": "3.7.4"
  }
 },
 "nbformat": 4,
 "nbformat_minor": 2
}
