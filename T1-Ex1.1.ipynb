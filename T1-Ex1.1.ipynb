{
 "cells": [
  {
   "cell_type": "code",
   "execution_count": 1,
   "metadata": {},
   "outputs": [],
   "source": [
    "#define as bibliotecas/pacotes a serem utilizadas\n",
    "import os\n",
    "import numpy as np\n",
    "import pandas as pd\n",
    "import matplotlib.pyplot as plt"
   ]
  },
  {
   "cell_type": "code",
   "execution_count": 2,
   "metadata": {},
   "outputs": [],
   "source": [
    "#define como será feita a leitura dos dados, a partir do arquivo a ser definido no campo \"filepath\"\n",
    "def importarDados(filepath, names):\n",
    "    path = os.getcwd() + filepath\n",
    "    #define os parâmetros do arquivo de texto a ser lido (caminho do arquivo, existência de cabeçalho no arquivo e títulos de colunas)\n",
    "    data = pd.read_csv(path, header=None, names=names)\n",
    "\n",
    "    X = data.iloc[:, 0:-1].values\n",
    "    y = data.iloc[:, -1:].values\n",
    "\n",
    "    # Incluir o valor de 1 em x, pois theta0 = 1\n",
    "    X = np.c_[np.ones((X.shape[0], 1)), X]\n",
    "\n",
    "    data.X = X\n",
    "    data.y = y\n",
    "    \n",
    "    return data"
   ]
  },
  {
   "cell_type": "code",
   "execution_count": 3,
   "metadata": {},
   "outputs": [],
   "source": [
    "#define os parâmetros para plotagem do gráfico de dispersão\n",
    "def plot():\n",
    "    #insere dados vindos do arquivo definido em 'filepath' e o título/rótulo de cada coluna\n",
    "    data = (importarDados(filepath=\"/data/ex1data1.txt\", names=[\"Population\",\"Profit\"]))\n",
    "    #define características a serem implementadas no gráfico, como cores, rótulos e marcadores\n",
    "    plt.scatter(data.X.T[1], data.y, color='red', marker='x')\n",
    "    plt.title('Populacao da cidade x Lucro da filial')\n",
    "    plt.xlabel('Populacao da cidade (10k)')\n",
    "    plt.ylabel('Lucro (10k)')\n",
    "    #define o nome do arquivo que guardará a imagem do gráfico, e cria o caminho, caso não exista\n",
    "    filename = 'target/plot1.1.png'\n",
    "    if not os.path.exists(os.path.dirname(filename)):\n",
    "      os.makedirs(os.path.dirname(filename))\n",
    "\n",
    "    #salva imagem do gráfico e o exibe\n",
    "    plt.savefig(filename)\n",
    "    plt.show()"
   ]
  },
  {
   "cell_type": "code",
   "execution_count": 4,
   "metadata": {},
   "outputs": [
    {
     "name": "stderr",
     "output_type": "stream",
     "text": [
      "C:\\Users\\Liss\\Anaconda3\\lib\\site-packages\\ipykernel_launcher.py:13: UserWarning: Pandas doesn't allow columns to be created via a new attribute name - see https://pandas.pydata.org/pandas-docs/stable/indexing.html#attribute-access\n",
      "  del sys.path[0]\n",
      "C:\\Users\\Liss\\Anaconda3\\lib\\site-packages\\ipykernel_launcher.py:14: UserWarning: Pandas doesn't allow columns to be created via a new attribute name - see https://pandas.pydata.org/pandas-docs/stable/indexing.html#attribute-access\n",
      "  \n"
     ]
    },
    {
     "data": {
      "image/png": "[encoded data removed]",
      "text/plain": [
       "<Figure size 432x288 with 1 Axes>"
      ]
     },
     "metadata": {
      "needs_background": "light"
     },
     "output_type": "display_data"
    }
   ],
   "source": [
    "#chama a função a ser executada\n",
    "plot()"
   ]
  },
  {
   "cell_type": "code",
   "execution_count": null,
   "metadata": {},
   "outputs": [],
   "source": []
  }
 ],
 "metadata": {
  "kernelspec": {
   "display_name": "Python 3",
   "language": "python",
   "name": "python3"
  },
  "language_info": {
   "codemirror_mode": {
    "name": "ipython",
    "version": 3
   },
   "file_extension": ".py",
   "mimetype": "text/x-python",
   "name": "python",
   "nbconvert_exporter": "python",
   "pygments_lexer": "ipython3",
   "version": "3.7.4"
  }
 },
 "nbformat": 4,
 "nbformat_minor": 2
}
