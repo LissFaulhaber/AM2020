{
 "cells": [
  {
   "cell_type": "code",
   "execution_count": 6,
   "metadata": {},
   "outputs": [],
   "source": [
    "import numpy as np\n",
    "from custo_reglin_uni import custo_reglin_uni\n",
    "from gd_reglin import gd"
   ]
  },
  {
   "cell_type": "code",
   "execution_count": 7,
   "metadata": {},
   "outputs": [],
   "source": [
    "#traz os valores normalizados para X e y, sem trazer os valores normatizados, a função de GD apresenta erro \n",
    "# e não completa os cálculos\n",
    "%run T1-Ex2.1.ipynb"
   ]
  },
  {
   "cell_type": "code",
   "execution_count": 8,
   "metadata": {},
   "outputs": [
    {
     "name": "stdout",
     "output_type": "stream",
     "text": [
      "0.5\n"
     ]
    }
   ],
   "source": [
    "#calcula função de custo para valores de theta igual a zero\n",
    "print(custo_reglin_uni(dataX,dataY, theta=np.array([0,0,0], ndmin=2).T))"
   ]
  },
  {
   "cell_type": "code",
   "execution_count": 9,
   "metadata": {},
   "outputs": [
    {
     "name": "stdout",
     "output_type": "stream",
     "text": [
      "0.13352749098554287\n"
     ]
    }
   ],
   "source": [
    "#calcula melhores valores para theta, a fim de reduzir o custo da função\n",
    "custo_final, theta = gd(dataX,dataY, 0.01, 5000)\n",
    "print(custo_final)"
   ]
  },
  {
   "cell_type": "code",
   "execution_count": 10,
   "metadata": {},
   "outputs": [
    {
     "name": "stdout",
     "output_type": "stream",
     "text": [
      "[[-7.34046393e-17]\n",
      " [ 8.84765988e-01]\n",
      " [-5.31788195e-02]]\n"
     ]
    }
   ],
   "source": [
    "#valores de theta encontrados na função de gradiente descendente\n",
    "print(theta)"
   ]
  },
  {
   "cell_type": "code",
   "execution_count": null,
   "metadata": {},
   "outputs": [],
   "source": []
  }
 ],
 "metadata": {
  "kernelspec": {
   "display_name": "Python 3",
   "language": "python",
   "name": "python3"
  },
  "language_info": {
   "codemirror_mode": {
    "name": "ipython",
    "version": 3
   },
   "file_extension": ".py",
   "mimetype": "text/x-python",
   "name": "python",
   "nbconvert_exporter": "python",
   "pygments_lexer": "ipython3",
   "version": "3.7.4"
  }
 },
 "nbformat": 4,
 "nbformat_minor": 2
}
