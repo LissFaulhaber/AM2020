{
 "cells": [
  {
   "cell_type": "code",
   "execution_count": 1,
   "metadata": {},
   "outputs": [],
   "source": [
    "import numpy as np"
   ]
  },
  {
   "cell_type": "code",
   "execution_count": 7,
   "metadata": {},
   "outputs": [],
   "source": [
    "#valores de theta definidos na função de GD\n",
    "theta=[[-3.89530051],[1.19298539]]\n",
    "#valores a serem adotados para x (1 e 3,5)*valores de theta para cálculo de y\n",
    "Lucro35=(np.array([1, 3.5]).dot(theta))"
   ]
  },
  {
   "cell_type": "code",
   "execution_count": 8,
   "metadata": {},
   "outputs": [],
   "source": [
    "#valores a serem adotados para x (1 e 7)*valores de theta para cálculo de y\n",
    "Lucro70=(np.array([1, 7]).dot(theta))"
   ]
  },
  {
   "cell_type": "code",
   "execution_count": 9,
   "metadata": {},
   "outputs": [
    {
     "name": "stdout",
     "output_type": "stream",
     "text": [
      "A predição de lucro para as cidades com 35 mil e 70 mil habitantes são, respectivamente [0.28014835] e [4.45559722]\n"
     ]
    }
   ],
   "source": [
    "print(\"A predição de lucro para as cidades com 35 mil e 70 mil habitantes são, respectivamente\", Lucro35, \"e\", Lucro70)"
   ]
  },
  {
   "cell_type": "code",
   "execution_count": null,
   "metadata": {},
   "outputs": [],
   "source": []
  }
 ],
 "metadata": {
  "kernelspec": {
   "display_name": "Python 3",
   "language": "python",
   "name": "python3"
  },
  "language_info": {
   "codemirror_mode": {
    "name": "ipython",
    "version": 3
   },
   "file_extension": ".py",
   "mimetype": "text/x-python",
   "name": "python",
   "nbconvert_exporter": "python",
   "pygments_lexer": "ipython3",
   "version": "3.7.4"
  }
 },
 "nbformat": 4,
 "nbformat_minor": 2
}
